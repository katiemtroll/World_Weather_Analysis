{
 "cells": [
  {
   "cell_type": "code",
   "execution_count": 1,
   "id": "34c65235",
   "metadata": {},
   "outputs": [],
   "source": [
    "import random"
   ]
  },
  {
   "cell_type": "code",
   "execution_count": 2,
   "id": "212afd16",
   "metadata": {},
   "outputs": [
    {
     "data": {
      "text/plain": [
       "9"
      ]
     },
     "execution_count": 2,
     "metadata": {},
     "output_type": "execute_result"
    }
   ],
   "source": [
    "# random integer\n",
    "# run between -90 and 90 to get a random latitude\n",
    "random.randint(-90,90)"
   ]
  },
  {
   "cell_type": "code",
   "execution_count": 3,
   "id": "8df15601",
   "metadata": {},
   "outputs": [
    {
     "data": {
      "text/plain": [
       "-51.79089703064512"
      ]
     },
     "execution_count": 3,
     "metadata": {},
     "output_type": "execute_result"
    }
   ],
   "source": [
    "# add random() funciton to randit to get floating-point decimal because we need latitutdes w/ decimals\n",
    "random_number = random.randint(-90,90) + random.random()\n",
    "random_number"
   ]
  },
  {
   "cell_type": "code",
   "execution_count": 4,
   "id": "a1dcc3ea",
   "metadata": {},
   "outputs": [
    {
     "data": {
      "text/plain": [
       "[-58.464913079087694,\n",
       " -11.395084871604578,\n",
       " 83.14714568364225,\n",
       " 76.65620333764944,\n",
       " 42.26178650076771,\n",
       " -15.260610537805768,\n",
       " -30.55768450276597,\n",
       " -62.29677835443035,\n",
       " -17.184422927572037,\n",
       " 57.01569135678853]"
      ]
     },
     "execution_count": 4,
     "metadata": {},
     "output_type": "execute_result"
    }
   ],
   "source": [
    "# now write an algorithm that will generate a set number of random algorithms\n",
    "# change upper bound to 89 so that it can be 89.99999....\n",
    "x = 1\n",
    "latitudes = []\n",
    "while x < 11:\n",
    "    random_lat = random.randint(-90,89) + random.random()\n",
    "    latitudes.append(random_lat)\n",
    "    x += 1\n",
    "latitudes"
   ]
  },
  {
   "cell_type": "code",
   "execution_count": 5,
   "id": "215ad1d7",
   "metadata": {},
   "outputs": [
    {
     "data": {
      "text/plain": [
       "-6.088642944633889"
      ]
     },
     "execution_count": 5,
     "metadata": {},
     "output_type": "execute_result"
    }
   ],
   "source": [
    "random.uniform(-90,90)"
   ]
  },
  {
   "cell_type": "markdown",
   "id": "b1263b3b",
   "metadata": {},
   "source": [
    "## NumPy & Random"
   ]
  },
  {
   "cell_type": "code",
   "execution_count": 6,
   "id": "35981b67",
   "metadata": {},
   "outputs": [],
   "source": [
    "import numpy as np"
   ]
  },
  {
   "cell_type": "code",
   "execution_count": 7,
   "id": "f7ecb608",
   "metadata": {},
   "outputs": [
    {
     "data": {
      "text/plain": [
       "-64.50708159557084"
      ]
     },
     "execution_count": 7,
     "metadata": {},
     "output_type": "execute_result"
    }
   ],
   "source": [
    "# generate between -90.000 and 90.000\n",
    "np.random.uniform(-90.000, 90.000)"
   ]
  },
  {
   "cell_type": "code",
   "execution_count": 8,
   "id": "8c34ae11",
   "metadata": {},
   "outputs": [
    {
     "data": {
      "text/plain": [
       "-77.97784893251496"
      ]
     },
     "execution_count": 8,
     "metadata": {},
     "output_type": "execute_result"
    }
   ],
   "source": [
    "# you could also write \n",
    "np.random.uniform(low=-90, high=90)"
   ]
  },
  {
   "cell_type": "code",
   "execution_count": 9,
   "id": "5cb8bd9d",
   "metadata": {},
   "outputs": [
    {
     "data": {
      "text/plain": [
       "array([ 79.91396664,  88.41448318,  37.73069449,  86.01712938,\n",
       "        18.12304171, -14.51098151,  34.63972259,  64.72327451,\n",
       "       -31.88261539,  21.95284053,  85.60084516,  -6.76664392,\n",
       "       -50.89931679,  86.64526313, -38.84511776, -71.36508941,\n",
       "       -19.40385728,  19.60594834,  35.59313218, -76.23941435,\n",
       "        71.57575547, -36.70059128,  14.25063993, -72.34372337,\n",
       "       -23.27054231,  27.36640627,  -4.29603238, -47.9595108 ,\n",
       "        12.9565107 ,  26.23449476,  58.04456343,  48.05529491,\n",
       "        42.95307772, -82.95614322, -61.21972192, -59.23672658,\n",
       "        24.27412306, -15.23693974,  67.01138649, -27.07366405,\n",
       "        75.25112224,  50.43774233, -20.25254454,  15.86381645,\n",
       "       -32.58717239, -27.08464744,   5.66371824, -47.61558418,\n",
       "        81.3652514 , -30.01021577])"
      ]
     },
     "execution_count": 9,
     "metadata": {},
     "output_type": "execute_result"
    }
   ],
   "source": [
    "# to generate mulitple, write it as an array\n",
    "np.random.uniform(-90.000, 90.000, size=50)"
   ]
  },
  {
   "cell_type": "code",
   "execution_count": 10,
   "id": "127caf86",
   "metadata": {},
   "outputs": [
    {
     "name": "stdout",
     "output_type": "stream",
     "text": [
      "7.13 µs ± 5.24 ns per loop (mean ± std. dev. of 7 runs, 100000 loops each)\n"
     ]
    }
   ],
   "source": [
    "# test if numpy is faster than the random while loop\n",
    "import timeit\n",
    "%timeit np.random.uniform(-90.000, 90.000, size=1500)"
   ]
  },
  {
   "cell_type": "code",
   "execution_count": 11,
   "id": "3419fee0",
   "metadata": {},
   "outputs": [
    {
     "name": "stdout",
     "output_type": "stream",
     "text": [
      "795 µs ± 475 ns per loop (mean ± std. dev. of 7 runs, 1000 loops each)\n"
     ]
    }
   ],
   "source": [
    "def latitudes(size):\n",
    "    latitudes = []\n",
    "    x = 0\n",
    "    while x < (size):\n",
    "        random_lat = random.randint(-90, 90) + random.random()\n",
    "        latitudes.append(random_lat)\n",
    "        x += 1\n",
    "    return latitudes\n",
    "# Call the function with 1500.\n",
    "%timeit latitudes(1500)"
   ]
  },
  {
   "cell_type": "code",
   "execution_count": 1,
   "id": "0f284780",
   "metadata": {},
   "outputs": [],
   "source": [
    "# the numpy random result is faster than using the while loop"
   ]
  },
  {
   "cell_type": "code",
   "execution_count": null,
   "id": "231a45c7",
   "metadata": {},
   "outputs": [],
   "source": []
  }
 ],
 "metadata": {
  "kernelspec": {
   "display_name": "PythonData",
   "language": "python",
   "name": "pythondata"
  },
  "language_info": {
   "codemirror_mode": {
    "name": "ipython",
    "version": 3
   },
   "file_extension": ".py",
   "mimetype": "text/x-python",
   "name": "python",
   "nbconvert_exporter": "python",
   "pygments_lexer": "ipython3",
   "version": "3.9.9"
  }
 },
 "nbformat": 4,
 "nbformat_minor": 5
}
